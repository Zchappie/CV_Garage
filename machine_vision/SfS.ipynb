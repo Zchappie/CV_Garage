{
 "cells": [
  {
   "cell_type": "markdown",
   "metadata": {},
   "source": [
    "# Shape from Shading experiments"
   ]
  },
  {
   "cell_type": "markdown",
   "metadata": {},
   "source": [
    "According to all these trials, single light source should be diffused to avoid the hard shadow. The albedo image should light up whole region without any shadow, and this will be used as a base to separate the geometry from slope images.\n",
    "One more thing noticed or realized, as gradient operation is a type of high pass filter, therefore, large region reflection is filtered out as low frequency."
   ]
  },
  {
   "cell_type": "code",
   "execution_count": null,
   "metadata": {},
   "outputs": [],
   "source": [
    "import cv2\n",
    "import numpy as np\n",
    "import matplotlib.pyplot as plt\n",
    "%pylab inline\n",
    "pylab.rcParams['figure.figsize'] = (20, 10)\n",
    "\n",
    "from skimage.transform.integral import integral_image"
   ]
  },
  {
   "cell_type": "code",
   "execution_count": null,
   "metadata": {},
   "outputs": [],
   "source": [
    "!ls"
   ]
  },
  {
   "cell_type": "code",
   "execution_count": null,
   "metadata": {},
   "outputs": [],
   "source": [
    "def show_img(imgs):\n",
    "    f = plt.figure()\n",
    "    for i in range(len(imgs)):\n",
    "        f.add_subplot(1,len(imgs), i+1)\n",
    "        plt.imshow(imgs[i], cmap='gray')\n",
    "    plt.show(block=True)"
   ]
  },
  {
   "cell_type": "code",
   "execution_count": null,
   "metadata": {},
   "outputs": [],
   "source": [
    "# top = cv2.imread(\"top.JPG\", cv2.IMREAD_GRAYSCALE)\n",
    "# right = cv2.imread(\"right.JPG\", cv2.IMREAD_GRAYSCALE)\n",
    "left = cv2.imread(\"left.JPG\", cv2.IMREAD_GRAYSCALE)\n",
    "down = cv2.imread(\"down.JPG\", cv2.IMREAD_GRAYSCALE)\n",
    "albedo = cv2.imread(\"albedo.JPG\", cv2.IMREAD_GRAYSCALE)"
   ]
  },
  {
   "cell_type": "code",
   "execution_count": null,
   "metadata": {},
   "outputs": [],
   "source": [
    "show_img([left, down, albedo])"
   ]
  },
  {
   "cell_type": "code",
   "execution_count": null,
   "metadata": {},
   "outputs": [],
   "source": [
    "left = left[1500:2500, 1000:2000]\n",
    "down = down[1500:2500, 1000:2000]\n",
    "albedo = albedo[1500:2500, 1000:2000]"
   ]
  },
  {
   "cell_type": "code",
   "execution_count": null,
   "metadata": {},
   "outputs": [],
   "source": [
    "show_img([left, down, albedo])"
   ]
  },
  {
   "cell_type": "code",
   "execution_count": null,
   "metadata": {},
   "outputs": [],
   "source": [
    "avg_left = np.mean(left[0:200])\n",
    "avg_down = np.mean(down[0:200])\n",
    "avg_albedo = np.mean(albedo[0:200])\n",
    "print(avg_left, avg_down, avg_albedo)\n",
    "\n",
    "scale_x = avg_left/avg_albedo\n",
    "scale_y = avg_down/avg_albedo\n",
    "print(scale_x, scale_y)"
   ]
  },
  {
   "cell_type": "code",
   "execution_count": null,
   "metadata": {},
   "outputs": [],
   "source": [
    "def normalize(img, scale):\n",
    "    return (img.astype(np.float32)/scale).astype(np.int16)"
   ]
  },
  {
   "cell_type": "code",
   "execution_count": null,
   "metadata": {},
   "outputs": [],
   "source": [
    "left_norm = normalize(left, scale_x)\n",
    "down_norm = normalize(down, scale_y)\n",
    "\n",
    "avg_x = np.mean(left_norm[0:200])\n",
    "avg_y = np.mean(down_norm[0:200])\n",
    "print(avg_x, avg_y, avg_albedo)"
   ]
  },
  {
   "cell_type": "code",
   "execution_count": null,
   "metadata": {
    "scrolled": true
   },
   "outputs": [],
   "source": [
    "show_img([left_norm, down_norm, albedo])"
   ]
  },
  {
   "cell_type": "markdown",
   "metadata": {},
   "source": [
    "## Op1: Subtract the albedo image from slop images"
   ]
  },
  {
   "cell_type": "code",
   "execution_count": null,
   "metadata": {},
   "outputs": [],
   "source": [
    "left_sub = left_norm-1.2*albedo\n",
    "down_sub = down_norm-1.2*albedo\n",
    "\n",
    "show_img([left_sub, down_sub])"
   ]
  },
  {
   "cell_type": "markdown",
   "metadata": {},
   "source": [
    "## Op2: Subtract the xy gradient image"
   ]
  },
  {
   "cell_type": "code",
   "execution_count": null,
   "metadata": {},
   "outputs": [],
   "source": [
    "sobelx = cv2.Sobel(left_sub,cv2.CV_64F,1,0,ksize=3)\n",
    "sobely = cv2.Sobel(down_sub,cv2.CV_64F,0,1,ksize=3)\n",
    "\n",
    "sobelxa = cv2.Sobel(albedo,cv2.CV_64F,1,0,ksize=3)\n",
    "sobelya = cv2.Sobel(albedo,cv2.CV_64F,0,1,ksize=3)\n",
    "\n",
    "show_img([sobelx, sobely, sobelxa, sobelya])"
   ]
  },
  {
   "cell_type": "code",
   "execution_count": null,
   "metadata": {},
   "outputs": [],
   "source": [
    "sobelx_org = cv2.Sobel(left,cv2.CV_64F,1,0,ksize=3)\n",
    "sobely_org = cv2.Sobel(down,cv2.CV_64F,0,1,ksize=3)\n",
    "show_img([sobelx-sobelxa, sobely-sobelya, sobelx_org-sobelxa, sobely_org-sobelya])"
   ]
  },
  {
   "cell_type": "code",
   "execution_count": null,
   "metadata": {},
   "outputs": [],
   "source": [
    "show_img([sobelx+sobely, sobelx_org-sobelxa+sobely_org-sobelya])"
   ]
  },
  {
   "cell_type": "markdown",
   "metadata": {},
   "source": [
    "## Now try the image online"
   ]
  },
  {
   "cell_type": "code",
   "execution_count": null,
   "metadata": {},
   "outputs": [],
   "source": [
    "baumer = cv2.imread(\"baumer.png\", cv2.IMREAD_GRAYSCALE)"
   ]
  },
  {
   "cell_type": "code",
   "execution_count": null,
   "metadata": {},
   "outputs": [],
   "source": [
    "show_img([baumer])"
   ]
  },
  {
   "cell_type": "markdown",
   "metadata": {},
   "source": [
    "### Get all the individual images"
   ]
  },
  {
   "cell_type": "code",
   "execution_count": null,
   "metadata": {},
   "outputs": [],
   "source": [
    "gray = cv2.medianBlur(baumer, 5)\n",
    "rows = gray.shape[0]\n",
    "circles = cv2.HoughCircles(gray, cv2.HOUGH_GRADIENT, 1, rows / 8,\n",
    "                           param1=100, param2=30,\n",
    "                           minRadius=210, maxRadius=230)"
   ]
  },
  {
   "cell_type": "code",
   "execution_count": null,
   "metadata": {},
   "outputs": [],
   "source": [
    "if circles is not None:\n",
    "    circles = np.uint16(np.around(circles))\n",
    "    print(circles)\n",
    "    for i in circles[0, :]:\n",
    "        center = (i[0], i[1])\n",
    "        # circle center\n",
    "        cv2.circle(baumer, center, 1, (0, 100, 100), 3)\n",
    "        # circle outline\n",
    "        radius = i[2]\n",
    "        cv2.circle(baumer, center, radius, (255, 0, 255), 3)"
   ]
  },
  {
   "cell_type": "code",
   "execution_count": null,
   "metadata": {},
   "outputs": [],
   "source": [
    "show_img([baumer])"
   ]
  },
  {
   "cell_type": "code",
   "execution_count": null,
   "metadata": {},
   "outputs": [],
   "source": [
    "circles_adjusted = [\n",
    "    [310, 284, 216],\n",
    "    [768, 284, 216],    \n",
    "    [1222, 284, 216],\n",
    "    [1684, 284, 216]\n",
    "]"
   ]
  },
  {
   "cell_type": "code",
   "execution_count": null,
   "metadata": {},
   "outputs": [],
   "source": [
    "coins = baumer[:]\n",
    "for circle in circles_adjusted:\n",
    "    center = (circle[0], circle[1])\n",
    "    cv2.circle(coins, center, 1, (0, 100, 100), 3)\n",
    "    radius = circle[2]\n",
    "    cv2.circle(coins, center, radius, (0, 0, 255), 3) "
   ]
  },
  {
   "cell_type": "code",
   "execution_count": null,
   "metadata": {},
   "outputs": [],
   "source": [
    "show_img([coins])"
   ]
  },
  {
   "cell_type": "code",
   "execution_count": null,
   "metadata": {},
   "outputs": [],
   "source": [
    "coins_sep = np.zeros((4, 216, 216))\n",
    "for circle in circles_adjusted:\n",
    "    i = 0\n",
    "    x, y = circle[0], circle[1]\n",
    "    print(x, y)\n",
    "    coins_sep[i] = baumer[x-216//2:x+216//2, y-216//2:y+216//2]\n",
    "    print(coins_sep, baumer)\n",
    "    i += 1\n",
    "print(coins_sep.shape)"
   ]
  },
  {
   "cell_type": "code",
   "execution_count": null,
   "metadata": {},
   "outputs": [],
   "source": []
  }
 ],
 "metadata": {
  "kernelspec": {
   "display_name": "Python 3",
   "language": "python",
   "name": "python3"
  },
  "language_info": {
   "codemirror_mode": {
    "name": "ipython",
    "version": 3
   },
   "file_extension": ".py",
   "mimetype": "text/x-python",
   "name": "python",
   "nbconvert_exporter": "python",
   "pygments_lexer": "ipython3",
   "version": "3.7.9"
  }
 },
 "nbformat": 4,
 "nbformat_minor": 4
}

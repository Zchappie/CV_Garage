{
 "cells": [
  {
   "cell_type": "code",
   "execution_count": null,
   "metadata": {},
   "outputs": [],
   "source": [
    "import cv2\n",
    "import numpy as np\n",
    "import matplotlib.pyplot as plt\n",
    "%pylab inline\n",
    "pylab.rcParams['figure.figsize'] = (20, 10)\n",
    "\n",
    "from skimage.transform.integral import integral_image"
   ]
  },
  {
   "cell_type": "code",
   "execution_count": null,
   "metadata": {},
   "outputs": [],
   "source": [
    "!ls"
   ]
  },
  {
   "cell_type": "code",
   "execution_count": null,
   "metadata": {},
   "outputs": [],
   "source": [
    "top = cv2.imread(\"top.JPG\", cv2.IMREAD_GRAYSCALE)\n",
    "right = cv2.imread(\"right.JPG\", cv2.IMREAD_GRAYSCALE)\n",
    "left = cv2.imread(\"left.JPG\", cv2.IMREAD_GRAYSCALE)\n",
    "down = cv2.imread(\"down.JPG\", cv2.IMREAD_GRAYSCALE)"
   ]
  },
  {
   "cell_type": "code",
   "execution_count": null,
   "metadata": {},
   "outputs": [],
   "source": [
    "f = plt.figure()\n",
    "f.add_subplot(1,4, 1)\n",
    "plt.imshow(top, cmap='gray')\n",
    "f.add_subplot(1,4, 2)\n",
    "plt.imshow(right, cmap='gray')\n",
    "f.add_subplot(1,4, 3)\n",
    "plt.imshow(down, cmap='gray')\n",
    "f.add_subplot(1,4, 4)\n",
    "plt.imshow(left, cmap='gray')\n",
    "plt.show(block=True)"
   ]
  },
  {
   "cell_type": "code",
   "execution_count": null,
   "metadata": {},
   "outputs": [],
   "source": [
    "avg_top = np.mean(top)\n",
    "avg_right = np.mean(top)\n",
    "print(avg_top, avg_right)"
   ]
  },
  {
   "cell_type": "code",
   "execution_count": null,
   "metadata": {},
   "outputs": [],
   "source": [
    "sobely1 = cv2.Sobel(top,cv2.CV_64F,0,1,ksize=3)\n",
    "sobelx1 = cv2.Sobel(right,cv2.CV_64F,1,0,ksize=3)\n",
    "sobely2 = cv2.Sobel(down,cv2.CV_64F,0,1,ksize=3)\n",
    "sobelx2 = cv2.Sobel(left,cv2.CV_64F,1,0,ksize=3)"
   ]
  },
  {
   "cell_type": "code",
   "execution_count": null,
   "metadata": {},
   "outputs": [],
   "source": [
    "f = plt.figure()\n",
    "f.add_subplot(1,4, 1)\n",
    "plt.imshow(sobely1, cmap='gray')\n",
    "f.add_subplot(1,4, 2)\n",
    "plt.imshow(sobelx1, cmap='gray')\n",
    "f.add_subplot(1,4, 3)\n",
    "plt.imshow(sobely2, cmap='gray')\n",
    "f.add_subplot(1,4, 4)\n",
    "plt.imshow(sobelx2, cmap='gray')\n",
    "plt.show(block=True)"
   ]
  },
  {
   "cell_type": "code",
   "execution_count": null,
   "metadata": {},
   "outputs": [],
   "source": [
    "f = plt.figure()\n",
    "f.add_subplot(1,1, 1)\n",
    "plt.imshow(sobely1+sobelx2, cmap='gray')\n",
    "plt.show(block=True)"
   ]
  },
  {
   "cell_type": "code",
   "execution_count": null,
   "metadata": {},
   "outputs": [],
   "source": []
  }
 ],
 "metadata": {
  "kernelspec": {
   "display_name": "Python 3",
   "language": "python",
   "name": "python3"
  },
  "language_info": {
   "codemirror_mode": {
    "name": "ipython",
    "version": 3
   },
   "file_extension": ".py",
   "mimetype": "text/x-python",
   "name": "python",
   "nbconvert_exporter": "python",
   "pygments_lexer": "ipython3",
   "version": "3.7.9"
  }
 },
 "nbformat": 4,
 "nbformat_minor": 4
}

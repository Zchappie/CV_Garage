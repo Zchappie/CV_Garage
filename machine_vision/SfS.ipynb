{
 "cells": [
  {
   "cell_type": "markdown",
   "metadata": {},
   "source": [
    "# Shape from Shading experiments"
   ]
  },
  {
   "cell_type": "markdown",
   "metadata": {},
   "source": [
    "According to all these trials, single light source should be diffused to avoid the hard shadow. The albedo image should light up whole region without any shadow, and this will be used as a base to separate the geometry from slope images."
   ]
  },
  {
   "cell_type": "code",
   "execution_count": null,
   "metadata": {},
   "outputs": [],
   "source": [
    "import cv2\n",
    "import numpy as np\n",
    "import matplotlib.pyplot as plt\n",
    "%pylab inline\n",
    "pylab.rcParams['figure.figsize'] = (20, 10)\n",
    "\n",
    "from skimage.transform.integral import integral_image"
   ]
  },
  {
   "cell_type": "code",
   "execution_count": null,
   "metadata": {},
   "outputs": [],
   "source": [
    "!ls"
   ]
  },
  {
   "cell_type": "code",
   "execution_count": null,
   "metadata": {},
   "outputs": [],
   "source": [
    "# top = cv2.imread(\"top.JPG\", cv2.IMREAD_GRAYSCALE)\n",
    "# right = cv2.imread(\"right.JPG\", cv2.IMREAD_GRAYSCALE)\n",
    "left = cv2.imread(\"left.JPG\", cv2.IMREAD_GRAYSCALE)\n",
    "down = cv2.imread(\"down.JPG\", cv2.IMREAD_GRAYSCALE)\n",
    "albedo = cv2.imread(\"albedo.JPG\", cv2.IMREAD_GRAYSCALE)"
   ]
  },
  {
   "cell_type": "code",
   "execution_count": null,
   "metadata": {},
   "outputs": [],
   "source": [
    "left = left[1500:2500, 1000:2000]\n",
    "down = down[1500:2500, 1000:2000]\n",
    "albedo = albedo[1500:2500, 1000:2000]"
   ]
  },
  {
   "cell_type": "code",
   "execution_count": null,
   "metadata": {},
   "outputs": [],
   "source": [
    "f = plt.figure()\n",
    "f.add_subplot(1,3, 1)\n",
    "plt.imshow(left, cmap='gray')\n",
    "f.add_subplot(1,3, 2)\n",
    "plt.imshow(down, cmap='gray')\n",
    "f.add_subplot(1,3, 3)\n",
    "plt.imshow(albedo, cmap='gray')\n",
    "plt.show(block=True)"
   ]
  },
  {
   "cell_type": "code",
   "execution_count": null,
   "metadata": {},
   "outputs": [],
   "source": [
    "avg_left = np.mean(left[:, 0:50])\n",
    "avg_down = np.mean(down[:, 0:50])\n",
    "avg_albedo = np.mean(albedo[:, 0:50])\n",
    "print(avg_left, avg_down, avg_albedo)\n",
    "\n",
    "scale_x = avg_left/avg_albedo\n",
    "scale_y = avg_down/avg_albedo\n",
    "print(scale_x, scale_y)"
   ]
  },
  {
   "cell_type": "code",
   "execution_count": null,
   "metadata": {},
   "outputs": [],
   "source": [
    "def normalize(img, scale):\n",
    "    return img/scale"
   ]
  },
  {
   "cell_type": "code",
   "execution_count": null,
   "metadata": {},
   "outputs": [],
   "source": [
    "left_norm = normalize(left, scale_x)\n",
    "down_norm = normalize(down, scale_y)\n",
    "\n",
    "avg_x = np.mean(left_norm[:, 0:50])\n",
    "avg_y = np.mean(down_norm[:, 0:50])\n",
    "print(avg_x, avg_y, avg_albedo)"
   ]
  },
  {
   "cell_type": "code",
   "execution_count": null,
   "metadata": {
    "scrolled": true
   },
   "outputs": [],
   "source": [
    "f = plt.figure()\n",
    "f.add_subplot(1,3, 1)\n",
    "plt.imshow(left_norm, cmap='gray')\n",
    "f.add_subplot(1,3, 2)\n",
    "plt.imshow(down_norm, cmap='gray')\n",
    "f.add_subplot(1,3, 3)\n",
    "plt.imshow(albedo, cmap='gray')\n",
    "plt.show(block=True)"
   ]
  },
  {
   "cell_type": "code",
   "execution_count": null,
   "metadata": {},
   "outputs": [],
   "source": [
    "left_sub = left_norm-albedo\n",
    "down_sub = down_norm-albedo\n",
    "\n",
    "f = plt.figure()\n",
    "f.add_subplot(1,2, 1)\n",
    "plt.imshow(left_sub, cmap='gray')\n",
    "f.add_subplot(1,2, 2)\n",
    "plt.imshow(down_sub, cmap='gray')\n",
    "plt.show(block=True)"
   ]
  },
  {
   "cell_type": "code",
   "execution_count": null,
   "metadata": {},
   "outputs": [],
   "source": [
    "sobelx = cv2.Sobel(left_sub,cv2.CV_64F,1,0,ksize=3)\n",
    "sobely = cv2.Sobel(down_sub,cv2.CV_64F,0,1,ksize=3)\n",
    "\n",
    "sobelxa = cv2.Sobel(albedo,cv2.CV_64F,1,0,ksize=3)\n",
    "sobelya = cv2.Sobel(albedo,cv2.CV_64F,0,1,ksize=3)"
   ]
  },
  {
   "cell_type": "code",
   "execution_count": null,
   "metadata": {},
   "outputs": [],
   "source": [
    "f = plt.figure()\n",
    "f.add_subplot(1,4, 1)\n",
    "plt.imshow(sobelx, cmap='gray')\n",
    "f.add_subplot(1,4, 2)\n",
    "plt.imshow(sobely, cmap='gray')\n",
    "f.add_subplot(1,4, 3)\n",
    "plt.imshow(sobelxa, cmap='gray')\n",
    "f.add_subplot(1,4, 4)\n",
    "plt.imshow(sobelya, cmap='gray')\n",
    "plt.show(block=True)"
   ]
  },
  {
   "cell_type": "code",
   "execution_count": null,
   "metadata": {},
   "outputs": [],
   "source": [
    "print(np.max(sobelx), np.min(sobelx), np.mean(sobelx))\n",
    "print(np.max(sobely), np.min(sobely), np.mean(sobely))\n",
    "print(np.max(sobelxa), np.min(sobelxa), np.mean(sobelxa))\n",
    "print(np.max(sobelya), np.min(sobelya), np.mean(sobelya))"
   ]
  },
  {
   "cell_type": "code",
   "execution_count": null,
   "metadata": {},
   "outputs": [],
   "source": [
    "f = plt.figure()\n",
    "f.add_subplot(1,2, 1)\n",
    "plt.imshow(sobelx-sobelxa, cmap='gray')\n",
    "f.add_subplot(1,2, 2)\n",
    "plt.imshow(sobely-sobelya, cmap='gray')\n",
    "plt.show(block=True)"
   ]
  },
  {
   "cell_type": "code",
   "execution_count": null,
   "metadata": {},
   "outputs": [],
   "source": [
    "f = plt.figure()\n",
    "f.add_subplot(1,1, 1)\n",
    "plt.imshow(sobelx-sobelxa+sobely-sobelya, cmap='gray')\n",
    "plt.show(block=True)"
   ]
  },
  {
   "cell_type": "code",
   "execution_count": null,
   "metadata": {},
   "outputs": [],
   "source": []
  },
  {
   "cell_type": "code",
   "execution_count": null,
   "metadata": {},
   "outputs": [],
   "source": []
  }
 ],
 "metadata": {
  "kernelspec": {
   "display_name": "Python 3",
   "language": "python",
   "name": "python3"
  },
  "language_info": {
   "codemirror_mode": {
    "name": "ipython",
    "version": 3
   },
   "file_extension": ".py",
   "mimetype": "text/x-python",
   "name": "python",
   "nbconvert_exporter": "python",
   "pygments_lexer": "ipython3",
   "version": "3.7.9"
  }
 },
 "nbformat": 4,
 "nbformat_minor": 4
}
